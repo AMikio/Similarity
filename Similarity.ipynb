{
 "cells": [
  {
   "cell_type": "markdown",
   "id": "aba19bd1",
   "metadata": {},
   "source": [
    "# Implementar algorítimo de [Similaridade do Cosseno](https://en.wikipedia.org/wiki/Cosine_similarity)"
   ]
  },
  {
   "cell_type": "code",
   "execution_count": 1,
   "id": "b2d7e3c4",
   "metadata": {},
   "outputs": [
    {
     "name": "stdout",
     "output_type": "stream",
     "text": [
      "def sqrt(x):\r\n",
      "    return x**.5\r\n",
      "\r\n",
      "def mean(vec):\r\n",
      "    return sum(vec)/len(vec)\r\n",
      "\r\n",
      "def dotProd(vec1, vec2):\r\n",
      "    return sum([x*y for x,y in zip(vec1,vec2)])\r\n",
      "\r\n",
      "def vMod(vec):\r\n",
      "    return sqrt(sum([x**2 for x in vec]))\r\n",
      "\r\n",
      "def stdDev(vec):\r\n",
      "    m = mean(vec)\r\n",
      "    result = sum([(x - m)**2 for x in vec])\r\n",
      "    result = sqrt(result/len(vec))\r\n",
      "    return result\r\n",
      "\r\n",
      "def coVar(vec1, vec2):\r\n",
      "    m1 = mean(vec1)\r\n",
      "    m2 = mean(vec2)\r\n",
      "    result = sum([(x-m1)*(y-m2) for x, y in zip(vec1, vec2)])\r\n",
      "    result = result/len(vec1)\r\n",
      "    return result\r\n",
      "    \r\n",
      "def simCos(vec1, vec2):\r\n",
      "    return dotProd(vec1, vec2)/(vMod(vec1)*vMod(vec2))\r\n",
      "\r\n",
      "def pCor(vec1, vec2):\r\n",
      "    covariance = coVar(vec1, vec2)\r\n",
      "    std1 = stdDev(vec1)\r\n",
      "    std2 = stdDev(vec2)\r\n",
      "    return covariance/(std1*std2)\r\n"
     ]
    }
   ],
   "source": [
    "!cat $(pwd)/libs/base.py"
   ]
  },
  {
   "cell_type": "code",
   "execution_count": 2,
   "id": "cef2cd97",
   "metadata": {},
   "outputs": [
    {
     "data": {
      "text/plain": [
       "0.9720951480078084"
      ]
     },
     "execution_count": 2,
     "metadata": {},
     "output_type": "execute_result"
    }
   ],
   "source": [
    "from libs import base as b\n",
    "\n",
    "v1 = [4, 47, 8, 3]\n",
    "v2 = [3, 52, 12, 16]\n",
    "\n",
    "b.simCos(v1, v2)"
   ]
  },
  {
   "cell_type": "markdown",
   "id": "4bec64a0",
   "metadata": {},
   "source": [
    "# Implementar algorítimo de [Correlação de Pearson](https://en.wikipedia.org/wiki/Pearson_correlation_coefficient)"
   ]
  },
  {
   "cell_type": "code",
   "execution_count": 5,
   "id": "6ea66f9d",
   "metadata": {},
   "outputs": [
    {
     "data": {
      "text/plain": [
       "0.5298089018901745"
      ]
     },
     "execution_count": 5,
     "metadata": {},
     "output_type": "execute_result"
    }
   ],
   "source": [
    "from libs import base as b\n",
    "\n",
    "v1 = [43, 21, 25, 42, 57, 59]\n",
    "v2 = [99, 65, 79, 75, 87, 81]\n",
    "\n",
    "b.pCor(v1, v2)"
   ]
  },
  {
   "cell_type": "code",
   "execution_count": null,
   "id": "ff5d205e",
   "metadata": {},
   "outputs": [],
   "source": []
  }
 ],
 "metadata": {
  "kernelspec": {
   "display_name": "Python 3 (ipykernel)",
   "language": "python",
   "name": "python3"
  },
  "language_info": {
   "codemirror_mode": {
    "name": "ipython",
    "version": 3
   },
   "file_extension": ".py",
   "mimetype": "text/x-python",
   "name": "python",
   "nbconvert_exporter": "python",
   "pygments_lexer": "ipython3",
   "version": "3.9.7"
  }
 },
 "nbformat": 4,
 "nbformat_minor": 5
}
